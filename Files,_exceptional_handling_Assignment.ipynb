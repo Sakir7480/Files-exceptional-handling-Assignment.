{
  "nbformat": 4,
  "nbformat_minor": 0,
  "metadata": {
    "colab": {
      "provenance": []
    },
    "kernelspec": {
      "name": "python3",
      "display_name": "Python 3"
    },
    "language_info": {
      "name": "python"
    }
  },
  "cells": [
    {
      "cell_type": "markdown",
      "source": [
        "                       Files, exceptional handling Assignment\n",
        "\n",
        "1.What is the difference between interpreted and compiled languages ?\n",
        "\n",
        " . The main difference between interpreted and compiled languages lies in how the code is executed by the computer.\n",
        "\n",
        ". Compiled Languages: In compiled languages, the source code is translated into machine code (binary code) by a compiler before execution. The compilation process generates an executable file, which can be run directly on the machine.\n",
        "\n",
        ".Interpreted Languages: In interpreted languages, the source code is translated and executed line-by-line by an interpreter at runtime. The interpreter reads and executes the code directly, without creating an intermediate machine code file.\n",
        "\n",
        "2.What is exception handling in Python ?\n",
        "\n",
        ". Exception handling in Python is a mechanism used to handle runtime errors, also known as exceptions, in a controlled way. When an error occurs during program execution, it raises an exception, and the program may terminate unless the exception is handled properly.Python provides a set of keywords (try, except, else, finally) to catch and handle exceptions and ensure that your program runs smoothly even when errors occur.\n",
        "\n",
        "3.What is the purpose of the finally block in exception handling ?\n",
        "\n",
        ". The finally block in Python's exception handling serves an important purpose: it ensures that certain code is always executed, regardless of whether an exception was raised or not. It is used for cleanup tasks or actions that must occur after the try block, regardless of the outcome (whether an exception occurred or not).\n",
        "\n",
        "4.What is logging in Python ?\n",
        "\n",
        ".Logging in Python is a way to record information about your program's execution. It provides a way to track events, errors, and other significant occurrences during the runtime of a program, which can be essential for debugging, monitoring, and understanding how a program behaves in different environments. Python's built-in logging module provides a flexible framework for writing log messages. Logs can be written to different outputs, such as the console, files, or external systems, and can capture varying levels of detail about the program's execution.\n",
        "\n",
        "5.What is the significance of the __del__ method in Python ?\n",
        "\n",
        ". In Python, the __del__ method is a special or \"magic\" method that acts as a destructor for objects. It is automatically called when an object is about to be destroyed, which typically happens when the object’s reference count reaches zero (i.e., no more references to the object exist). This provides an opportunity to release resources or perform cleanup tasks before the object is deleted.\n",
        "\n",
        "6.What is the difference between import and from ... import in Python ?\n",
        "\n",
        ". In Python, both import and from ... import are used to bring external modules or specific functions, classes, or variables from modules into the current namespace\n",
        "\n",
        ". import Statement: The import statement is used to import an entire module into your program. When you use import, you must reference the module name to access its functions, classes, or variables.\n",
        "\n",
        ".from ... import Statement: The from ... import statement allows you to import specific functions, classes, or variables from a module directly into the current namespace. This way, you can use them without having to reference the module name.\n",
        "\n",
        "7.How can you handle multiple exceptions in Python ?\n",
        "\n",
        ". In Python, you can handle multiple exceptions in several ways. This can be useful when you anticipate different types of errors occurring during program execution and want to handle each of them in a specific way.\n",
        "\n",
        ".Here are the common approaches for handling multiple exceptions:\n",
        "   \n",
        "   . Using Multiple except Blocks\n",
        "\n",
        "   . Using a Single except Block with Multiple Exception Types\n",
        "\n",
        "   . Handling All Exceptions Using a Generic except Block\n",
        "\n",
        "8.What is the purpose of the with statement when handling files in Python ?\n",
        "\n",
        " . The with statement in Python is used for handling resources like files, sockets, database connections, etc. It provides a clean, efficient, and safe way to ensure that resources are properly acquired and released, even in the presence of exceptions.\n",
        "\n",
        ".When dealing with files, the primary benefit of using the with statement is that it automatically handles opening and closing the file. This helps prevent resource leaks and simplifies the code.\n",
        "\n",
        "9.What is the difference between multithreading and multiprocessing ?\n",
        "\n",
        ". Both multithreading and multiprocessing are techniques used to run multiple tasks concurrently. However, they differ in their implementation, execution model, and use cases. Here's a detailed comparison between multithreading and multiprocessing:\n",
        "\n",
        ". Multithreading: Involves executing multiple threads within the same process. A thread is the smallest unit of a CPU's execution, and all threads in a process share the same memory space. Threads run concurrently but are still part of a single process.\n",
        "\n",
        ".Multiprocessing: Involves executing multiple processes, each with its own independent memory space and resources. Each process runs on its own core (in modern CPUs) and operates independently of others.\n",
        "\n",
        "10.What are the advantages of using logging in a program ?\n",
        "\n",
        ". Logging is a powerful tool for tracking and monitoring the execution of a program, providing insights into its behavior and helping diagnose issues. It is more structured and flexible compared to using print() statements for debugging and monitoring purposes. Here are the key advantages of using logging in a program:\n",
        "\n",
        ". Better Debugging and Troubleshooting\n",
        "\n",
        ". Persistent Record Keeping\n",
        "\n",
        ". Control Over Log Levels\n",
        "\n",
        "11.What is memory management in Python0\n",
        "\n",
        ". Memory management in Python refers to the process of efficiently allocating, using, and deallocating memory during the execution of a Python program. Python handles memory management automatically, but understanding how it works can help you write more efficient programs and troubleshoot memory-related issues.\n",
        "\n",
        "12. What are the basic steps involved in exception handling in Python ?\n",
        "\n",
        ". Exception handling in Python is a way to handle runtime errors (or exceptions) that may occur during the execution of a program. By using the try, except, else, and finally blocks, you can catch and handle exceptions gracefully without crashing the program.\n",
        "\n",
        ". Here are the basic steps involved in exception handling in Python:\n",
        "\n",
        ". The try Block\n",
        "\n",
        ". The except Block\n",
        "\n",
        ". The else Block (Optional)\n",
        "\n",
        "13.Why is memory management important in Python ?\n",
        "\n",
        ".Memory management is a critical aspect of programming, particularly in languages like Python where automatic memory handling is provided. Efficient memory management ensures that a program runs smoothly without consuming excessive system resources, avoiding memory leaks, and ensuring optimal performance. In Python, memory management is handled automatically to a large extent, but understanding it is essential for developers to write efficient and scalable code.\n",
        "\n",
        "14.What is the role of try and except in exception handling ?\n",
        "\n",
        ". Memory management is a critical aspect of programming, particularly in languages like Python where automatic memory handling is provided. Efficient memory management ensures that a program runs smoothly without consuming excessive system resources, avoiding memory leaks, and ensuring optimal performance. In Python, memory management is handled automatically to a large extent, but understanding it is essential for developers to write efficient and scalable code.\n",
        "\n",
        "15.How does Python's garbage collection system work ?\n",
        "\n",
        ". Python's garbage collection system is responsible for automatically managing memory by reclaiming memory occupied by objects that are no longer in use. This helps prevent memory leaks, where unused memory is not freed, leading to increased memory consumption and, eventually, potential crashes or performance degradation. Python’s garbage collection combines reference counting and cycle detection to handle most memory management tasks.\n",
        "\n",
        "16.What is the purpose of the else block in exception handling ?\n",
        "\n",
        ". In Python, the else block is used in conjunction with try and except blocks as part of exception handling. The primary purpose of the else block is to allow code that should only be executed if no exceptions are raised in the try block.\n",
        "\n",
        ". Key Points About the else Block:\n",
        "\n",
        ". Executed Only if No Exception Occurs: The else block is executed only if the code inside the try block completes successfully, meaning no exception was raised. If an exception occurs in the try block, Python will jump to the corresponding except block (if there is one), and the else block is skipped entirely.\n",
        "\n",
        ". Helps Separate Normal Code from Error-Handling Code: Using the else block allows you to separate the code that deals with exceptions from the code that executes when no exceptions occur. This makes your code cleaner and easier to read.\n",
        "\n",
        "17.What are the common logging levels in Python ?\n",
        "\n",
        ". Python's built-in logging module provides a flexible framework for logging messages from your application. Each log message is assigned a logging level, which helps categorize the severity or importance of the log message. These levels define the threshold of severity for the log to be captured.\n",
        "\n",
        "18.What is the difference between os.fork() and multiprocessing in Python ?\n",
        "\n",
        ". Both os.fork() and the multiprocessing module in Python are used to create new processes, but they are quite different in terms of how they work and what they are designed for.\n",
        "\n",
        ". Let's explore the key differences:\n",
        "\n",
        ". os.fork(): Purpose: os.fork() is a low-level system call available on Unix-like operating systems (Linux, macOS, etc.) that allows a program to create a child process by duplicating the calling process. It is a part of the os module.\n",
        "\n",
        ". multiprocessing Module: Purpose: The multiprocessing module is a high-level abstraction in Python that allows you to create and manage multiple processes in a more portable and convenient way.\n",
        "\n",
        "19.What is the importance of closing a file in Python ?\n",
        "\n",
        ". In Python, when you open a file for reading, writing, or appending, it is crucial to close the file after you're done using it. Closing a file ensures that all changes are saved, resources are freed, and the file is properly closed to avoid potential issues\n",
        "\n",
        ". Here’s a detailed breakdown of why closing a file is important:\n",
        "\n",
        ". Ensures Data is Written and Saved\n",
        "\n",
        ". Releases System Resources\n",
        "\n",
        ". Prevents File Locking Issues\n",
        "\n",
        "20.What is the difference between file.read() and file.readline() in Python ?\n",
        "\n",
        ". In Python, the methods file.read() and file.readline() are both used to read data from a file, but they work in different ways and are used for different purposes.\n",
        "\n",
        ". file.read(): Purpose: Reads the entire content of the file (or a specified number of bytes) as a single string.\n",
        "\n",
        "Usage: Typically used when you want to read the entire content of the file at once.\n",
        "\n",
        " . file.readline(): Purpose: Reads one line at a time from the file.'\n",
        "\n",
        " . Usage: Useful when you need to read a file line by line, especially for large files where loading the entire file into memory at once would be inefficient.\n",
        "\n",
        " 21.What is the logging module in Python used for ?\n",
        "\n",
        " . The logging module in Python is used to log messages from your program. It provides a way to track events and errors that occur during program execution, which is crucial for debugging, monitoring, and maintaining large applications.\n",
        "\n",
        ".Logging helps developers and system administrators understand what is happening in an application, especially when it's running in production or when it encounters unexpected behavior. It provides various levels of severity for messages and allows outputting to different destinations such as the console, files, or remote servers.\n",
        "\n",
        "22. What is the os module in Python used for in file handling ?\n",
        "\n",
        ". The os module in Python provides a way to interact with the operating system, and it includes a variety of functions for file handling, such as creating, deleting, and manipulating files and directories. It is essential for tasks that require access to the underlying system and file system.\n",
        "\n",
        ". Key File Handling Operations with the os Module\n",
        "\n",
        ". Working with File Paths:\n",
        "\n",
        ". Creating and Removing Files:\n",
        "\n",
        "23.What are the challenges associated with memory management in Python ?\n",
        "\n",
        ". Memory management in Python is a crucial part of programming, and while Python provides automated memory management mechanisms like garbage collection, there are still several challenges associated with efficiently managing memory in large or complex applications.\n",
        "\n",
        ". Below are the key challenges:\n",
        "\n",
        ". Automatic Memory Management and Garbage Collection:\n",
        "\n",
        ". Memory Leaks:\n",
        "\n",
        ". Large Objects and Memory Fragmentation:\n",
        "\n",
        "24. How do you raise an exception manually in Python ?\n",
        "\n",
        ". In Python, exceptions can be raised manually using the raise keyword. Raising an exception manually is useful when you want to signal an error or an exceptional condition in your program, even when no error occurs automatically. You can raise a built-in exception or a custom exception based on your needs.\n",
        "\n",
        "25.Why is it important to use multithreading in certain applications?\n",
        "\n",
        ". Multithreading is a programming technique that allows multiple threads to execute independently but within the same process. It is particularly useful in certain types of applications where tasks can be performed concurrently or in parallel, leading to more efficient and responsive programs.\n",
        "\n",
        "\n",
        "\n",
        "\n",
        "\n",
        "\n",
        "\n",
        "\n",
        "\n",
        "\n",
        "\n",
        "\n",
        "\n",
        "\n",
        "\n",
        "\n",
        "\n",
        "\n",
        "\n",
        "\n",
        "\n",
        "\n",
        "\n",
        "\n",
        "\n",
        "\n",
        "\n",
        "\n",
        "\n",
        "\n",
        "\n",
        "\n",
        "\n",
        "\n",
        "\n",
        "\n",
        "\n",
        "\n",
        "\n",
        "\n",
        "\n",
        "\n",
        "\n",
        "\n",
        "\n",
        "\n",
        "\n",
        "\n",
        "\n",
        "\n",
        "\n",
        "\n",
        "\n",
        "\n",
        "\n",
        "\n",
        "\n",
        "\n",
        "\n",
        "\n",
        "\n",
        "\n",
        "\n",
        "\n",
        "\n",
        "\n",
        "\n",
        "\n",
        "\n"
      ],
      "metadata": {
        "id": "wReVsvMXC8sf"
      }
    },
    {
      "cell_type": "code",
      "source": [],
      "metadata": {
        "id": "ZNN-LnEXYUfv"
      },
      "execution_count": null,
      "outputs": []
    },
    {
      "cell_type": "markdown",
      "source": [
        "                     Practical Questions"
      ],
      "metadata": {
        "id": "lzuQBHgyYhRC"
      }
    },
    {
      "cell_type": "markdown",
      "source": [
        "1.How can you open a file for writing in Python and write a string to it ?\n"
      ],
      "metadata": {
        "id": "kzlZsnd_C2mU"
      }
    },
    {
      "cell_type": "code",
      "source": [
        "# Open the file in write mode ('w')\n",
        "with open(\"example.txt\", \"w\") as file:\n",
        "    file.write(\"Hello, this is a string written to the file.\")\n",
        "\n",
        "# The 'with' statement automatically closes the file when done\n"
      ],
      "metadata": {
        "id": "_Ky1-blbY7Iy"
      },
      "execution_count": 4,
      "outputs": []
    },
    {
      "cell_type": "markdown",
      "source": [],
      "metadata": {
        "id": "iyK4EPUeC4WV"
      }
    },
    {
      "cell_type": "code",
      "source": [
        "# Open the file in append mode ('a')\n",
        "with open(\"example.txt\", \"a\") as file:\n",
        "    file.write(\"\\nThis is an additional line added to the file.\")\n"
      ],
      "metadata": {
        "id": "v6aB15_PZdqy"
      },
      "execution_count": 3,
      "outputs": []
    },
    {
      "cell_type": "markdown",
      "source": [
        "2. Write a Python program to read the contents of a file and print each line .\n",
        "\n"
      ],
      "metadata": {
        "id": "7m2LZ5lWZp1z"
      }
    },
    {
      "cell_type": "code",
      "source": [
        "# Open the file in read mode ('r')\n",
        "with open(\"example.txt\", \"r\") as file:\n",
        "    # Iterate through each line in the file\n",
        "    for line in file:\n",
        "        print(line.strip())  # .strip() is used to remove leading/trailing whitespace\n"
      ],
      "metadata": {
        "colab": {
          "base_uri": "https://localhost:8080/"
        },
        "id": "OhZgjOPQZxBy",
        "outputId": "be02f6f1-00fa-4c1d-c415-56e7be8a2dd0"
      },
      "execution_count": 5,
      "outputs": [
        {
          "output_type": "stream",
          "name": "stdout",
          "text": [
            "Hello, this is a string written to the file.\n"
          ]
        }
      ]
    },
    {
      "cell_type": "markdown",
      "source": [
        "3. How would you handle a case where the file doesn't exist while trying to open it for reading .\n",
        "\n",
        "\n"
      ],
      "metadata": {
        "id": "nq_H9c3-Z_L1"
      }
    },
    {
      "cell_type": "code",
      "source": [
        "try:\n",
        "    # Try to open the file in read mode ('r')\n",
        "    with open(\"example.txt\", \"r\") as file:\n",
        "        # Read and print each line from the file\n",
        "        for line in file:\n",
        "            print(line.strip())\n",
        "except FileNotFoundError:\n",
        "    # Handle the case where the file does not exist\n",
        "    print(\"Error: The file 'example.txt' does not exist.\")\n",
        "except Exception as e:\n",
        "    # Catch any other exception that may occur\n",
        "    print(f\"An error occurred: {e}\")\n"
      ],
      "metadata": {
        "colab": {
          "base_uri": "https://localhost:8080/"
        },
        "id": "1f0vyswsZemR",
        "outputId": "ee35196d-5d6d-48c6-e683-8009abb84dcf"
      },
      "execution_count": 6,
      "outputs": [
        {
          "output_type": "stream",
          "name": "stdout",
          "text": [
            "Hello, this is a string written to the file.\n"
          ]
        }
      ]
    },
    {
      "cell_type": "markdown",
      "source": [
        "4.Write a Python script that reads from one file and writes its content to another file.\n"
      ],
      "metadata": {
        "id": "_Rvpw5uAabQv"
      }
    },
    {
      "cell_type": "code",
      "source": [
        "# Open the source file in read mode ('r')\n",
        "with open(\"source.txt\", \"r\") as source_file:\n",
        "    # Open the destination file in write mode ('w')\n",
        "    with open(\"destination.txt\", \"w\") as destination_file:\n",
        "        # Read the content from the source file\n",
        "        content = source_file.read()\n",
        "\n",
        "        # Write the content to the destination file\n",
        "        destination_file.write(content)\n",
        "\n",
        "print(\"Content has been successfully copied from 'source.txt' to 'destination.txt'.\")\n"
      ],
      "metadata": {
        "id": "BGuJqAdja7pG"
      },
      "execution_count": null,
      "outputs": []
    },
    {
      "cell_type": "markdown",
      "source": [
        "Hello, this is the content of the source file.\n",
        "This content will be copied to the destination file.\n",
        "\n",
        "5.How would you catch and handle division by zero error in Python ?\n",
        "\n",
        "\n"
      ],
      "metadata": {
        "id": "9XR4Bjo1Z88a"
      }
    },
    {
      "cell_type": "code",
      "source": [
        "try:\n",
        "    # Attempt to divide by zero\n",
        "    numerator = 10\n",
        "    denominator = 0\n",
        "    result = numerator / denominator\n",
        "    print(f\"The result is: {result}\")\n",
        "except ZeroDivisionError:\n",
        "    # Handle the division by zero error\n",
        "    print(\"Error: Division by zero is not allowed.\")\n"
      ],
      "metadata": {
        "colab": {
          "base_uri": "https://localhost:8080/"
        },
        "id": "ZgwfNW4ebTdg",
        "outputId": "a281e986-7bae-4ea5-d231-4c36401ba09d"
      },
      "execution_count": 9,
      "outputs": [
        {
          "output_type": "stream",
          "name": "stdout",
          "text": [
            "Error: Division by zero is not allowed.\n"
          ]
        }
      ]
    },
    {
      "cell_type": "markdown",
      "source": [
        "6.Write a Python program that logs an error message to a log file when a division by zero exception occurs.\n"
      ],
      "metadata": {
        "id": "0r1w7dTjcsrP"
      }
    },
    {
      "cell_type": "code",
      "source": [
        "import logging\n",
        "\n",
        "# Set up logging configuration\n",
        "logging.basicConfig(filename='error_log.txt',\n",
        "                    level=logging.ERROR,\n",
        "                    format='%(asctime)s - %(levelname)s - %(message)s')\n",
        "\n",
        "try:\n",
        "    # Attempt to perform division\n",
        "    numerator = 10\n",
        "    denominator = 0\n",
        "    result = numerator / denominator\n",
        "    print(f\"The result is: {result}\")\n",
        "except Z eroDivisionError as e:\n",
        "    # Log the error message to the file\n",
        "    logging.error(f\"Error: Division by zero occurred. {e}\")\n",
        "\n",
        "    # Print a user-friendly message to the console\n",
        "    print(\"Error: Cannot divide by zero.\")\n"
      ],
      "metadata": {
        "colab": {
          "base_uri": "https://localhost:8080/"
        },
        "id": "9UYSLSsucq0s",
        "outputId": "416ac00a-4fe7-4407-86de-36a6f55084d8"
      },
      "execution_count": 10,
      "outputs": [
        {
          "output_type": "stream",
          "name": "stderr",
          "text": [
            "ERROR:root:Error: Division by zero occurred. division by zero\n"
          ]
        },
        {
          "output_type": "stream",
          "name": "stdout",
          "text": [
            "Error: Cannot divide by zero.\n"
          ]
        }
      ]
    },
    {
      "cell_type": "markdown",
      "source": [
        "7.How do you log information at different levels (INFO, ERROR, WARNING) in Python using the logging module .\n"
      ],
      "metadata": {
        "id": "wSCann5OdSfk"
      }
    },
    {
      "cell_type": "code",
      "source": [
        "import logging\n",
        "\n",
        "# Set up logging configuration\n",
        "logging.basicConfig(filename='app_log.txt',\n",
        "                    level=logging.DEBUG,  # Logs all levels from DEBUG and above\n",
        "                    format='%(asctime)s - %(levelname)s - %(message)s')\n",
        "\n",
        "# Example log messages at different levels\n",
        "\n",
        "# Logging an informational message\n",
        "logging.info(\"This is an info message: Program started.\")\n",
        "\n",
        "# Logging a warning message\n",
        "logging.warning(\"This is a warning message: Something might go wrong.\")\n",
        "\n",
        "# Logging an error message\n",
        "logging.error(\"This is an error message: An error occurred.\")\n",
        "\n",
        "# Logging a critical error message\n",
        "logging.critical(\"This is a critical message: Something critical happened.\")\n",
        "\n",
        "# Logging a debug message (used for debugging purposes, detailed)\n",
        "logging.debug(\"This is a debug message: Detailed debug information.\")\n"
      ],
      "metadata": {
        "colab": {
          "base_uri": "https://localhost:8080/"
        },
        "id": "lKMJTh8MdQb-",
        "outputId": "93d6ac71-107b-4cbc-f550-38716b5d0056"
      },
      "execution_count": 11,
      "outputs": [
        {
          "output_type": "stream",
          "name": "stderr",
          "text": [
            "WARNING:root:This is a warning message: Something might go wrong.\n",
            "ERROR:root:This is an error message: An error occurred.\n",
            "CRITICAL:root:This is a critical message: Something critical happened.\n"
          ]
        }
      ]
    },
    {
      "cell_type": "markdown",
      "source": [
        "8. Write a program to handle a file opening error using exception handling .\n"
      ],
      "metadata": {
        "id": "KtHJv_xRndTw"
      }
    },
    {
      "cell_type": "code",
      "source": [
        "try:\n",
        "    # Attempt to open a file (replace 'non_existent_file.txt' with your file name)\n",
        "    file = open(\"non_existent_file.txt\", \"r\")\n",
        "    # If the file is successfully opened, read and print its contents\n",
        "    content = file.read()\n",
        "    print(content)\n",
        "except FileNotFoundError:\n",
        "    # Handle the case when the file is not found\n",
        "    print(\"Error: The file does not exist.\")\n",
        "except PermissionError:\n",
        "    # Handle the case when the file exists but permission is denied\n",
        "    print(\"Error: Permission denied to open the file.\")\n",
        "except Exception as e:\n",
        "    # Handle any other unexpected errors\n",
        "    print(f\"An unexpected error occurred: {e}\")\n",
        "finally:\n",
        "    # Always close the file if it was successfully opened\n",
        "    try:\n",
        "        file.close()\n",
        "    except NameError:\n",
        "        # If the file was not opened, this block will not execute\n",
        "        pass\n"
      ],
      "metadata": {
        "colab": {
          "base_uri": "https://localhost:8080/"
        },
        "id": "QCU0bY2znUcG",
        "outputId": "be52f263-a66a-4188-d818-a242a4d099ec"
      },
      "execution_count": 12,
      "outputs": [
        {
          "output_type": "stream",
          "name": "stdout",
          "text": [
            "Error: The file does not exist.\n"
          ]
        }
      ]
    },
    {
      "cell_type": "markdown",
      "source": [
        "9.How can you read a file line by line and store its content in a list in Python ?\n"
      ],
      "metadata": {
        "id": "DjDdr08Cnuxb"
      }
    },
    {
      "cell_type": "code",
      "source": [
        "# Open the file in read mode\n",
        "with open(\"example.txt\", \"r\") as file:\n",
        "    # Initialize an empty list to store the lines\n",
        "    lines = []\n",
        "\n",
        "    # Loop through each line in the file\n",
        "    for line in file:\n",
        "        # Strip the newline character and append the line to the list\n",
        "        lines.append(line.strip())\n",
        "\n",
        "# Print the list of lines\n",
        "print(lines)\n"
      ],
      "metadata": {
        "colab": {
          "base_uri": "https://localhost:8080/"
        },
        "id": "n0jMmT6hnoXI",
        "outputId": "fd52d697-4de7-4b1c-be72-5aae1be1535b"
      },
      "execution_count": 13,
      "outputs": [
        {
          "output_type": "stream",
          "name": "stdout",
          "text": [
            "['Hello, this is a string written to the file.']\n"
          ]
        }
      ]
    },
    {
      "cell_type": "markdown",
      "source": [
        "10.How can you append data to an existing file in Python ?\n",
        "\n",
        "\n",
        "\n",
        "\n"
      ],
      "metadata": {
        "id": "CmbSGeKkn6Vm"
      }
    },
    {
      "cell_type": "code",
      "source": [
        "# Open the file in append mode\n",
        "with open(\"example.txt\", \"a\") as file:\n",
        "    # Write some new data to the file\n",
        "    file.write(\"\\nThis is a new line of text that will be appended.\")\n",
        "\n",
        "print(\"Data has been appended to the file.\")\n"
      ],
      "metadata": {
        "colab": {
          "base_uri": "https://localhost:8080/"
        },
        "id": "iiMCw98Rn5Sj",
        "outputId": "c138624e-443f-4485-fe0b-1a8c9c2c32f0"
      },
      "execution_count": 14,
      "outputs": [
        {
          "output_type": "stream",
          "name": "stdout",
          "text": [
            "Data has been appended to the file.\n"
          ]
        }
      ]
    },
    {
      "cell_type": "markdown",
      "source": [
        "11. Write a Python program that uses a try-except block to handle an error when attempting to access a\n",
        "dictionary key that doesn't exist.\n",
        "\n",
        "\n"
      ],
      "metadata": {
        "id": "sP1KHje4oXOz"
      }
    },
    {
      "cell_type": "code",
      "source": [
        "# Sample dictionary\n",
        "my_dict = {\"name\": \"John\", \"age\": 30, \"city\": \"New York\"}\n",
        "\n",
        "# Key we want to access (but doesn't exist in the dictionary)\n",
        "key_to_access = \"email\"\n",
        "\n",
        "try:\n",
        "    # Attempt to access the value of a non-existing key\n",
        "    value = my_dict[key_to_access]\n",
        "    print(f\"The value for key '{key_to_access}' is: {value}\")\n",
        "except KeyError:\n",
        "    # Handle the case where the key does not exist\n",
        "    print(f\"Error: The key '{key_to_access}' does not exist in the dictionary.\")\n"
      ],
      "metadata": {
        "colab": {
          "base_uri": "https://localhost:8080/"
        },
        "id": "ZZTUJhNsoSyJ",
        "outputId": "1fd2ec55-c90b-4081-cf68-72050694fe78"
      },
      "execution_count": 15,
      "outputs": [
        {
          "output_type": "stream",
          "name": "stdout",
          "text": [
            "Error: The key 'email' does not exist in the dictionary.\n"
          ]
        }
      ]
    },
    {
      "cell_type": "markdown",
      "source": [
        "12.Write a program that demonstrates using multiple except blocks to handle different types of exceptions.\n"
      ],
      "metadata": {
        "id": "LY2n8oTnotvb"
      }
    },
    {
      "cell_type": "code",
      "source": [
        "def divide_numbers(a, b):\n",
        "    try:\n",
        "        # Try to divide the numbers\n",
        "        result = a / b\n",
        "        print(f\"The result of {a} divided by {b} is: {result}\")\n",
        "    except ZeroDivisionError:\n",
        "        # This block handles division by zero error\n",
        "        print(\"Error: Cannot divide by zero!\")\n",
        "    except TypeError:\n",
        "        # This block handles cases where the input types are incorrect (e.g., strings instead of numbers)\n",
        "        print(\"Error: Both inputs must be numbers!\")\n",
        "    except Exception as e:\n",
        "        # This block handles any other unexpected errors\n",
        "        print(f\"An unexpected error occurred: {e}\")\n",
        "\n",
        "# Test cases\n",
        "divide_numbers(10, 2)  # Valid division\n",
        "divide_numbers(10, 0)  # Division by zero\n",
        "divide_numbers(10, 'a')  # Type error\n"
      ],
      "metadata": {
        "colab": {
          "base_uri": "https://localhost:8080/"
        },
        "id": "yFFAAsxbqRHJ",
        "outputId": "17a32120-062f-482d-9df6-08f2d4644cd4"
      },
      "execution_count": 16,
      "outputs": [
        {
          "output_type": "stream",
          "name": "stdout",
          "text": [
            "The result of 10 divided by 2 is: 5.0\n",
            "Error: Cannot divide by zero!\n",
            "Error: Both inputs must be numbers!\n"
          ]
        }
      ]
    },
    {
      "cell_type": "markdown",
      "source": [
        "13.How would you check if a file exists before attempting to read it in Python ?\n",
        "\n"
      ],
      "metadata": {
        "id": "1Z49EEEGqbFe"
      }
    },
    {
      "cell_type": "code",
      "source": [
        "import os\n",
        "\n",
        "file_path = \"example.txt\"\n",
        "\n",
        "# Check if the file exists\n",
        "if os.path.exists(file_path):\n",
        "    with open(file_path, \"r\") as file:\n",
        "        content = file.read()\n",
        "        print(content)\n",
        "else:\n",
        "    print(f\"Error: The file '{file_path}' does not exist.\")\n"
      ],
      "metadata": {
        "colab": {
          "base_uri": "https://localhost:8080/"
        },
        "id": "asS7B0AtqSJb",
        "outputId": "a2103980-9389-4fc7-ac59-480e181fc13c"
      },
      "execution_count": 17,
      "outputs": [
        {
          "output_type": "stream",
          "name": "stdout",
          "text": [
            "Hello, this is a string written to the file.\n",
            "This is a new line of text that will be appended.\n"
          ]
        }
      ]
    },
    {
      "cell_type": "markdown",
      "source": [
        "14. Write a program that uses the logging module to log both informational and error messages.\n"
      ],
      "metadata": {
        "id": "VGmZ4UJ0qpzg"
      }
    },
    {
      "cell_type": "code",
      "source": [
        "import logging\n",
        "\n",
        "# Set up the basic configuration for logging\n",
        "logging.basicConfig(\n",
        "    filename='app.log',      # Log to a file named 'app.log'\n",
        "    level=logging.DEBUG,     # Capture all levels of logs (DEBUG and above)\n",
        "    format='%(asctime)s - %(levelname)s - %(message)s'  # Format for log messages\n",
        ")\n",
        "\n",
        "# Log an informational message\n",
        "logging.info(\"This is an informational message.\")\n",
        "\n",
        "# Log a warning message (optional)\n",
        "logging.warning(\"This is a warning message.\")\n",
        "\n",
        "# Log an error message\n",
        "try:\n",
        "    x = 10 / 0  # This will raise a ZeroDivisionError\n",
        "except ZeroDivisionError as e:\n",
        "    logging.error(f\"Error occurred: {e}\")\n",
        "\n",
        "# Log a debug message (for development purposes)\n",
        "logging.debug(\"This is a debug message.\")\n",
        "\n",
        "# Log a critical message\n",
        "logging.critical(\"This is a critical error message.\")\n"
      ],
      "metadata": {
        "colab": {
          "base_uri": "https://localhost:8080/"
        },
        "id": "hrv4lDYEqoCz",
        "outputId": "3ee90c37-0d01-40e3-b979-88ccea61dc75"
      },
      "execution_count": 18,
      "outputs": [
        {
          "output_type": "stream",
          "name": "stderr",
          "text": [
            "WARNING:root:This is a warning message.\n",
            "ERROR:root:Error occurred: division by zero\n",
            "CRITICAL:root:This is a critical error message.\n"
          ]
        }
      ]
    },
    {
      "cell_type": "markdown",
      "source": [
        "15. Write a Python program that prints the content of a file and handles the case when the file is empty.\n"
      ],
      "metadata": {
        "id": "5cxTZ4Fsq3wT"
      }
    },
    {
      "cell_type": "code",
      "source": [
        "def print_file_content(file_path):\n",
        "    try:\n",
        "        # Open the file for reading\n",
        "        with open(file_path, \"r\") as file:\n",
        "            content = file.read()\n",
        "\n",
        "            # Check if the file is empty\n",
        "            if not content:\n",
        "                print(f\"The file '{file_path}' is empty.\")\n",
        "            else:\n",
        "                print(f\"Content of the file '{file_path}':\")\n",
        "                print(content)\n",
        "\n",
        "    except FileNotFoundError:\n",
        "        print(f\"Error: The file '{file_path}' does not exist.\")\n",
        "    except Exception as e:\n",
        "        print(f\"An unexpected error occurred: {e}\")\n",
        "\n",
        "# File path to be checked\n",
        "file_path = \"example.txt\"\n",
        "print_file_content(file_path)\n"
      ],
      "metadata": {
        "colab": {
          "base_uri": "https://localhost:8080/"
        },
        "id": "x3jGkFdfq06e",
        "outputId": "da86ff2f-391a-415c-8017-5af08bd28361"
      },
      "execution_count": 19,
      "outputs": [
        {
          "output_type": "stream",
          "name": "stdout",
          "text": [
            "Content of the file 'example.txt':\n",
            "Hello, this is a string written to the file.\n",
            "This is a new line of text that will be appended.\n"
          ]
        }
      ]
    },
    {
      "cell_type": "markdown",
      "source": [
        "16.Demonstrate how to use memory profiling to check the memory usage of a small program.\n"
      ],
      "metadata": {
        "id": "aS1EFFx0rMCS"
      }
    },
    {
      "cell_type": "code",
      "source": [
        "# Import memory profiler\n",
        "from memory_profiler import profile\n",
        "\n",
        "@profile\n",
        "def create_list():\n",
        "    # Creating a list with some numbers\n",
        "    my_list = []\n",
        "    for i in range(10000):\n",
        "        my_list.append(i)\n",
        "    return my_list\n",
        "\n",
        "@profile\n",
        "def main():\n",
        "    create_list()\n",
        "\n",
        "if __name__ == \"__main__\":\n",
        "    main()\n"
      ],
      "metadata": {
        "id": "EddV091srZQI"
      },
      "execution_count": null,
      "outputs": []
    },
    {
      "cell_type": "markdown",
      "source": [
        "17.Write a Python program to create and write a list of numbers to a file, one number per line.\n"
      ],
      "metadata": {
        "id": "YtrbUVyYrmR1"
      }
    },
    {
      "cell_type": "code",
      "source": [
        "# List of numbers to write to the file\n",
        "numbers = [1, 2, 3, 4, 5, 6, 7, 8, 9, 10]\n",
        "\n",
        "# Open the file in write mode\n",
        "with open(\"numbers.txt\", \"w\") as file:\n",
        "    # Write each number to the file on a new line\n",
        "    for number in numbers:\n",
        "        file.write(f\"{number}\\n\")\n",
        "\n",
        "print(\"Numbers have been written to 'numbers.txt' file.\")\n"
      ],
      "metadata": {
        "colab": {
          "base_uri": "https://localhost:8080/"
        },
        "id": "f0RdtMDirxzs",
        "outputId": "71d267ba-a1fe-4f1e-f79b-17a2f3b887b2"
      },
      "execution_count": 21,
      "outputs": [
        {
          "output_type": "stream",
          "name": "stdout",
          "text": [
            "Numbers have been written to 'numbers.txt' file.\n"
          ]
        }
      ]
    },
    {
      "cell_type": "markdown",
      "source": [
        "18.How would you implement a basic logging setup that logs to a file with rotation after 1MB ?\n"
      ],
      "metadata": {
        "id": "lS-Cz4S8sAg_"
      }
    },
    {
      "cell_type": "code",
      "source": [
        "import logging\n",
        "from logging.handlers import RotatingFileHandler\n",
        "\n",
        "# Set up the logger\n",
        "logger = logging.getLogger(\"my_logger\")\n",
        "logger.setLevel(logging.DEBUG)  # Set the log level to DEBUG\n",
        "\n",
        "# Create a rotating file handler that rotates the log file after 1MB\n",
        "handler = RotatingFileHandler(\n",
        "    \"my_log.log\",     # The name of the log file\n",
        "    maxBytes=1 * 1024 * 1024,  # 1MB in bytes\n",
        "    backupCount=3     # Keep 3 backup log files\n",
        ")\n",
        "\n",
        "# Create a log format\n",
        "formatter = logging.Formatter('%(asctime)s - %(levelname)s - %(message)s')\n",
        "handler.setFormatter(formatter)\n",
        "\n",
        "# Add the handler to the logger\n",
        "logger.addHandler(handler)\n",
        "\n",
        "# Log some messages to test the rotation\n",
        "for i in range(100000):\n",
        "    logger.debug(f\"Debug message {i}\")\n",
        "    logger.info(f\"Info message {i}\")\n",
        "    logger.warning(f\"Warning message {i}\")\n",
        "    logger.error(f\"Error message {i}\")\n",
        "    logger.critical(f\"Critical message {i}\")\n",
        "\n",
        "print(\"Logging setup with rotation after 1MB is complete.\")\n"
      ],
      "metadata": {
        "id": "O-oNqAwusohG"
      },
      "execution_count": null,
      "outputs": []
    },
    {
      "cell_type": "markdown",
      "source": [],
      "metadata": {
        "id": "npti6vLLr-5b"
      }
    },
    {
      "cell_type": "markdown",
      "source": [
        "19. Write a program that handles both IndexError and KeyError using a try-except block.\n"
      ],
      "metadata": {
        "id": "xWycFMW6sqJz"
      }
    },
    {
      "cell_type": "code",
      "source": [
        "def handle_errors():\n",
        "    my_list = [1, 2, 3]\n",
        "    my_dict = {\"name\": \"Alice\", \"age\": 30}\n",
        "\n",
        "    try:\n",
        "        # Attempting to access an index that might not exist\n",
        "        print(\"Accessing list index 5:\", my_list[5])\n",
        "\n",
        "        # Attempting to access a dictionary key that might not exist\n",
        "        print(\"Accessing key 'address':\", my_dict[\"address\"])\n",
        "\n",
        "    except IndexError as ie:\n",
        "        print(f\"IndexError occurred: {ie}\")\n",
        "\n",
        "    except KeyError as ke:\n",
        "        print(f\"KeyError occurred: {ke}\")\n",
        "\n",
        "# Call the function to test error handling\n",
        "handle_errors()\n"
      ],
      "metadata": {
        "colab": {
          "base_uri": "https://localhost:8080/"
        },
        "id": "WToTXtZGsxmd",
        "outputId": "b3376b61-f407-4d66-df12-c25be537ecde"
      },
      "execution_count": 23,
      "outputs": [
        {
          "output_type": "stream",
          "name": "stdout",
          "text": [
            "IndexError occurred: list index out of range\n"
          ]
        }
      ]
    },
    {
      "cell_type": "markdown",
      "source": [
        "20. How would you open a file and read its contents using a context manager in Python  ?\n",
        "\n",
        "\n",
        "\n"
      ],
      "metadata": {
        "id": "9DCkGskcs_6a"
      }
    },
    {
      "cell_type": "code",
      "source": [
        "# Open and read a file using the 'with' statement (context manager)\n",
        "file_name = \"example.txt\"\n",
        "\n",
        "# Using the context manager (with statement)\n",
        "with open(file_name, 'r') as file:\n",
        "    # Read the contents of the file\n",
        "    content = file.read()\n",
        "\n",
        "    # Print the contents\n",
        "    print(content)\n"
      ],
      "metadata": {
        "colab": {
          "base_uri": "https://localhost:8080/"
        },
        "id": "sTSDiUfcs3sQ",
        "outputId": "737b06d6-7a11-4a8a-bce5-2d4418156310"
      },
      "execution_count": 24,
      "outputs": [
        {
          "output_type": "stream",
          "name": "stdout",
          "text": [
            "Hello, this is a string written to the file.\n",
            "This is a new line of text that will be appended.\n"
          ]
        }
      ]
    },
    {
      "cell_type": "markdown",
      "source": [
        "21. Write a Python program that reads a file and prints the number of occurrences of a specific word.\n"
      ],
      "metadata": {
        "id": "J1AyxNy4tOww"
      }
    },
    {
      "cell_type": "code",
      "source": [
        "def count_word_occurrences(file_name, word_to_count):\n",
        "    try:\n",
        "        with open(file_name, 'r') as file:\n",
        "            # Read the contents of the file\n",
        "            content = file.read()\n",
        "\n",
        "            # Count the occurrences of the word (case insensitive)\n",
        "            word_count = content.lower().split().count(word_to_count.lower())\n",
        "\n",
        "        print(f\"The word '{word_to_count}' occurred {word_count} times in the file.\")\n",
        "\n",
        "    except FileNotFoundError:\n",
        "        print(f\"The file '{file_name}' does not exist.\")\n",
        "\n",
        "# Example usage\n",
        "file_name = 'example.txt'  # Replace with the actual file path\n",
        "word_to_count = 'hello'     # Replace with the word you want to count\n",
        "count_word_occurrences(file_name, word_to_count)\n"
      ],
      "metadata": {
        "colab": {
          "base_uri": "https://localhost:8080/"
        },
        "id": "d3g5LO7btNRL",
        "outputId": "4aa33a7b-eec9-4238-807e-46fdfb0fd377"
      },
      "execution_count": 25,
      "outputs": [
        {
          "output_type": "stream",
          "name": "stdout",
          "text": [
            "The word 'hello' occurred 0 times in the file.\n"
          ]
        }
      ]
    },
    {
      "cell_type": "markdown",
      "source": [
        "22.How can you check if a file is empty before attempting to read its contents ?\n",
        "\n",
        "\n",
        "\n",
        "\n"
      ],
      "metadata": {
        "id": "S8FX5eA-tj1z"
      }
    },
    {
      "cell_type": "code",
      "source": [
        "import os\n",
        "\n",
        "def read_file_if_not_empty(file_name):\n",
        "    # Check if the file exists and its size\n",
        "    if os.path.exists(file_name) and os.path.getsize(file_name) > 0:\n",
        "        with open(file_name, 'r') as file:\n",
        "            content = file.read()\n",
        "            print(\"File content:\")\n",
        "            print(content)\n",
        "    else:\n",
        "        print(f\"The file '{file_name}' is empty or does not exist.\")\n",
        "\n",
        "# Example usage\n",
        "file_name = \"example.txt\"  # Replace with the actual file path\n",
        "read_file_if_not_empty(file_name)\n"
      ],
      "metadata": {
        "colab": {
          "base_uri": "https://localhost:8080/"
        },
        "id": "g9FdzFZEtf9P",
        "outputId": "9a0b634c-4658-4e88-f553-81c79f5131b2"
      },
      "execution_count": 26,
      "outputs": [
        {
          "output_type": "stream",
          "name": "stdout",
          "text": [
            "File content:\n",
            "Hello, this is a string written to the file.\n",
            "This is a new line of text that will be appended.\n"
          ]
        }
      ]
    },
    {
      "cell_type": "markdown",
      "source": [
        "23.Write a Python program that writes to a log file when an error occurs during file handling.\n"
      ],
      "metadata": {
        "id": "9StoYI5MuGdc"
      }
    },
    {
      "cell_type": "code",
      "source": [
        "import logging\n",
        "\n",
        "# Setting up the logging configuration\n",
        "logging.basicConfig(\n",
        "    filename='file_handling_errors.log',  # Log file to store error messages\n",
        "    level=logging.ERROR,                  # Only log ERROR and higher severity levels\n",
        "    format='%(asctime)s - %(levelname)s - %(message)s'  # Log format\n",
        ")\n",
        "\n",
        "def handle_file_operations(file_name):\n",
        "    try:\n",
        "        # Trying to open the file for reading\n",
        "        with open(file_name, 'r') as file:\n",
        "            content = file.read()\n",
        "            print(\"File content:\")\n",
        "            print(content)\n",
        "\n",
        "    except FileNotFoundError as fnf_error:\n",
        "        # Log the FileNotFoundError to the log file\n",
        "        logging.error(f\"FileNotFoundError: {fnf_error}\")\n",
        "        print(f\"Error: {fnf_error}\")\n",
        "\n",
        "    except IOError as io_error:\n",
        "        # Log any I/O errors to the log file\n",
        "        logging.error(f\"IOError: {io_error}\")\n",
        "        print(f\"Error: {io_error}\")\n",
        "\n",
        "# Example usage\n",
        "file_name = \"example.txt\"  # Replace with your actual file path\n",
        "handle_file_operations(file_name)\n"
      ],
      "metadata": {
        "colab": {
          "base_uri": "https://localhost:8080/"
        },
        "id": "vJujkMuEt9Ot",
        "outputId": "e80999a6-a4b3-45da-ea2c-10def0a8693c"
      },
      "execution_count": 27,
      "outputs": [
        {
          "output_type": "stream",
          "name": "stdout",
          "text": [
            "File content:\n",
            "Hello, this is a string written to the file.\n",
            "This is a new line of text that will be appended.\n"
          ]
        }
      ]
    },
    {
      "cell_type": "code",
      "source": [],
      "metadata": {
        "id": "i5XstpcNusln"
      },
      "execution_count": null,
      "outputs": []
    }
  ]
}